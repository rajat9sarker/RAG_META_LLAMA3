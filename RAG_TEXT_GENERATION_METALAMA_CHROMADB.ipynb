{
  "cells": [
    {
      "cell_type": "code",
      "execution_count": null,
      "id": "10e0b4ea-b4ca-4997-a522-9d2e24d2e35f",
      "metadata": {
        "scrolled": true,
        "collapsed": true,
        "id": "10e0b4ea-b4ca-4997-a522-9d2e24d2e35f",
        "outputId": "5459705b-387c-4564-9266-51994ae81492"
      },
      "outputs": [
        {
          "name": "stdout",
          "output_type": "stream",
          "text": [
            "Requirement already satisfied: langchain-community in /usr/local/lib/python3.10/dist-packages (0.3.3)\n",
            "Requirement already satisfied: PyYAML>=5.3 in /usr/local/lib/python3.10/dist-packages (from langchain-community) (6.0.1)\n",
            "Requirement already satisfied: SQLAlchemy<3,>=1.4 in /usr/local/lib/python3.10/dist-packages (from langchain-community) (2.0.36)\n",
            "Requirement already satisfied: aiohttp<4.0.0,>=3.8.3 in /usr/local/lib/python3.10/dist-packages (from langchain-community) (3.10.10)\n",
            "Requirement already satisfied: dataclasses-json<0.7,>=0.5.7 in /usr/local/lib/python3.10/dist-packages (from langchain-community) (0.6.7)\n",
            "Requirement already satisfied: langchain<0.4.0,>=0.3.4 in /usr/local/lib/python3.10/dist-packages (from langchain-community) (0.3.5)\n",
            "Requirement already satisfied: langchain-core<0.4.0,>=0.3.12 in /usr/local/lib/python3.10/dist-packages (from langchain-community) (0.3.13)\n",
            "Requirement already satisfied: langsmith<0.2.0,>=0.1.125 in /usr/local/lib/python3.10/dist-packages (from langchain-community) (0.1.138)\n",
            "Requirement already satisfied: numpy<2,>=1 in /usr/local/lib/python3.10/dist-packages (from langchain-community) (1.24.1)\n",
            "Requirement already satisfied: pydantic-settings<3.0.0,>=2.4.0 in /usr/local/lib/python3.10/dist-packages (from langchain-community) (2.6.0)\n",
            "Requirement already satisfied: requests<3,>=2 in /usr/local/lib/python3.10/dist-packages (from langchain-community) (2.32.3)\n",
            "Requirement already satisfied: tenacity!=8.4.0,<10,>=8.1.0 in /usr/local/lib/python3.10/dist-packages (from langchain-community) (9.0.0)\n",
            "Requirement already satisfied: aiohappyeyeballs>=2.3.0 in /usr/local/lib/python3.10/dist-packages (from aiohttp<4.0.0,>=3.8.3->langchain-community) (2.4.3)\n",
            "Requirement already satisfied: aiosignal>=1.1.2 in /usr/local/lib/python3.10/dist-packages (from aiohttp<4.0.0,>=3.8.3->langchain-community) (1.3.1)\n",
            "Requirement already satisfied: attrs>=17.3.0 in /usr/local/lib/python3.10/dist-packages (from aiohttp<4.0.0,>=3.8.3->langchain-community) (23.1.0)\n",
            "Requirement already satisfied: frozenlist>=1.1.1 in /usr/local/lib/python3.10/dist-packages (from aiohttp<4.0.0,>=3.8.3->langchain-community) (1.5.0)\n",
            "Requirement already satisfied: multidict<7.0,>=4.5 in /usr/local/lib/python3.10/dist-packages (from aiohttp<4.0.0,>=3.8.3->langchain-community) (6.1.0)\n",
            "Requirement already satisfied: yarl<2.0,>=1.12.0 in /usr/local/lib/python3.10/dist-packages (from aiohttp<4.0.0,>=3.8.3->langchain-community) (1.17.0)\n",
            "Requirement already satisfied: async-timeout<5.0,>=4.0 in /usr/local/lib/python3.10/dist-packages (from aiohttp<4.0.0,>=3.8.3->langchain-community) (4.0.3)\n",
            "Requirement already satisfied: marshmallow<4.0.0,>=3.18.0 in /usr/local/lib/python3.10/dist-packages (from dataclasses-json<0.7,>=0.5.7->langchain-community) (3.23.0)\n",
            "Requirement already satisfied: typing-inspect<1,>=0.4.0 in /usr/local/lib/python3.10/dist-packages (from dataclasses-json<0.7,>=0.5.7->langchain-community) (0.9.0)\n",
            "Requirement already satisfied: langchain-text-splitters<0.4.0,>=0.3.0 in /usr/local/lib/python3.10/dist-packages (from langchain<0.4.0,>=0.3.4->langchain-community) (0.3.1)\n",
            "Requirement already satisfied: pydantic<3.0.0,>=2.7.4 in /usr/local/lib/python3.10/dist-packages (from langchain<0.4.0,>=0.3.4->langchain-community) (2.9.2)\n",
            "Requirement already satisfied: jsonpatch<2.0,>=1.33 in /usr/local/lib/python3.10/dist-packages (from langchain-core<0.4.0,>=0.3.12->langchain-community) (1.33)\n",
            "Requirement already satisfied: packaging<25,>=23.2 in /usr/local/lib/python3.10/dist-packages (from langchain-core<0.4.0,>=0.3.12->langchain-community) (23.2)\n",
            "Requirement already satisfied: typing-extensions>=4.7 in /usr/local/lib/python3.10/dist-packages (from langchain-core<0.4.0,>=0.3.12->langchain-community) (4.12.2)\n",
            "Requirement already satisfied: httpx<1,>=0.23.0 in /usr/local/lib/python3.10/dist-packages (from langsmith<0.2.0,>=0.1.125->langchain-community) (0.27.2)\n",
            "Requirement already satisfied: orjson<4.0.0,>=3.9.14 in /usr/local/lib/python3.10/dist-packages (from langsmith<0.2.0,>=0.1.125->langchain-community) (3.10.10)\n",
            "Requirement already satisfied: requests-toolbelt<2.0.0,>=1.0.0 in /usr/local/lib/python3.10/dist-packages (from langsmith<0.2.0,>=0.1.125->langchain-community) (1.0.0)\n",
            "Requirement already satisfied: python-dotenv>=0.21.0 in /usr/local/lib/python3.10/dist-packages (from pydantic-settings<3.0.0,>=2.4.0->langchain-community) (1.0.1)\n",
            "Requirement already satisfied: charset-normalizer<4,>=2 in /usr/local/lib/python3.10/dist-packages (from requests<3,>=2->langchain-community) (2.1.1)\n",
            "Requirement already satisfied: idna<4,>=2.5 in /usr/local/lib/python3.10/dist-packages (from requests<3,>=2->langchain-community) (3.4)\n",
            "Requirement already satisfied: urllib3<3,>=1.21.1 in /usr/local/lib/python3.10/dist-packages (from requests<3,>=2->langchain-community) (1.26.13)\n",
            "Requirement already satisfied: certifi>=2017.4.17 in /usr/local/lib/python3.10/dist-packages (from requests<3,>=2->langchain-community) (2022.12.7)\n",
            "Requirement already satisfied: greenlet!=0.4.17 in /usr/local/lib/python3.10/dist-packages (from SQLAlchemy<3,>=1.4->langchain-community) (3.1.1)\n",
            "Requirement already satisfied: anyio in /usr/local/lib/python3.10/dist-packages (from httpx<1,>=0.23.0->langsmith<0.2.0,>=0.1.125->langchain-community) (4.0.0)\n",
            "Requirement already satisfied: httpcore==1.* in /usr/local/lib/python3.10/dist-packages (from httpx<1,>=0.23.0->langsmith<0.2.0,>=0.1.125->langchain-community) (1.0.6)\n",
            "Requirement already satisfied: sniffio in /usr/local/lib/python3.10/dist-packages (from httpx<1,>=0.23.0->langsmith<0.2.0,>=0.1.125->langchain-community) (1.3.0)\n",
            "Requirement already satisfied: h11<0.15,>=0.13 in /usr/local/lib/python3.10/dist-packages (from httpcore==1.*->httpx<1,>=0.23.0->langsmith<0.2.0,>=0.1.125->langchain-community) (0.14.0)\n",
            "Requirement already satisfied: jsonpointer>=1.9 in /usr/local/lib/python3.10/dist-packages (from jsonpatch<2.0,>=1.33->langchain-core<0.4.0,>=0.3.12->langchain-community) (2.4)\n",
            "Requirement already satisfied: annotated-types>=0.6.0 in /usr/local/lib/python3.10/dist-packages (from pydantic<3.0.0,>=2.7.4->langchain<0.4.0,>=0.3.4->langchain-community) (0.7.0)\n",
            "Requirement already satisfied: pydantic-core==2.23.4 in /usr/local/lib/python3.10/dist-packages (from pydantic<3.0.0,>=2.7.4->langchain<0.4.0,>=0.3.4->langchain-community) (2.23.4)\n",
            "Requirement already satisfied: mypy-extensions>=0.3.0 in /usr/local/lib/python3.10/dist-packages (from typing-inspect<1,>=0.4.0->dataclasses-json<0.7,>=0.5.7->langchain-community) (1.0.0)\n",
            "Requirement already satisfied: propcache>=0.2.0 in /usr/local/lib/python3.10/dist-packages (from yarl<2.0,>=1.12.0->aiohttp<4.0.0,>=3.8.3->langchain-community) (0.2.0)\n",
            "Requirement already satisfied: exceptiongroup>=1.0.2 in /usr/local/lib/python3.10/dist-packages (from anyio->httpx<1,>=0.23.0->langsmith<0.2.0,>=0.1.125->langchain-community) (1.1.3)\n",
            "\u001b[33mWARNING: Running pip as the 'root' user can result in broken permissions and conflicting behaviour with the system package manager. It is recommended to use a virtual environment instead: https://pip.pypa.io/warnings/venv\u001b[0m\u001b[33m\n",
            "\u001b[0m\n",
            "\u001b[1m[\u001b[0m\u001b[34;49mnotice\u001b[0m\u001b[1;39;49m]\u001b[0m\u001b[39;49m A new release of pip is available: \u001b[0m\u001b[31;49m23.3.1\u001b[0m\u001b[39;49m -> \u001b[0m\u001b[32;49m24.3.1\u001b[0m\n",
            "\u001b[1m[\u001b[0m\u001b[34;49mnotice\u001b[0m\u001b[1;39;49m]\u001b[0m\u001b[39;49m To update, run: \u001b[0m\u001b[32;49mpython -m pip install --upgrade pip\u001b[0m\n"
          ]
        }
      ],
      "source": [
        "!pip install langchain-community"
      ]
    },
    {
      "cell_type": "code",
      "execution_count": null,
      "id": "d1ee2442-8a81-427f-8a7d-add4b498307f",
      "metadata": {
        "collapsed": true,
        "id": "d1ee2442-8a81-427f-8a7d-add4b498307f",
        "outputId": "d7cd9a08-3148-4dc1-d2c7-51ab383889d3"
      },
      "outputs": [
        {
          "name": "stdout",
          "output_type": "stream",
          "text": [
            "Requirement already satisfied: pypdf in /usr/local/lib/python3.10/dist-packages (5.1.0)\n",
            "Requirement already satisfied: typing_extensions>=4.0 in /usr/local/lib/python3.10/dist-packages (from pypdf) (4.12.2)\n",
            "\u001b[33mWARNING: Running pip as the 'root' user can result in broken permissions and conflicting behaviour with the system package manager. It is recommended to use a virtual environment instead: https://pip.pypa.io/warnings/venv\u001b[0m\u001b[33m\n",
            "\u001b[0m\n",
            "\u001b[1m[\u001b[0m\u001b[34;49mnotice\u001b[0m\u001b[1;39;49m]\u001b[0m\u001b[39;49m A new release of pip is available: \u001b[0m\u001b[31;49m23.3.1\u001b[0m\u001b[39;49m -> \u001b[0m\u001b[32;49m24.3.1\u001b[0m\n",
            "\u001b[1m[\u001b[0m\u001b[34;49mnotice\u001b[0m\u001b[1;39;49m]\u001b[0m\u001b[39;49m To update, run: \u001b[0m\u001b[32;49mpython -m pip install --upgrade pip\u001b[0m\n"
          ]
        },
        {
          "data": {
            "text/plain": [
              "<langchain_community.document_loaders.pdf.PyPDFLoader at 0x75c23dfbe230>"
            ]
          },
          "execution_count": 2,
          "metadata": {},
          "output_type": "execute_result"
        }
      ],
      "source": [
        "!pip install pypdf\n",
        "from langchain.document_loaders import PyPDFLoader\n",
        "\n",
        "raw_doc=PyPDFLoader(\"paracetamol.pdf\")\n",
        "raw_doc"
      ]
    },
    {
      "cell_type": "code",
      "execution_count": null,
      "id": "7ec07910-ab67-4aac-8a23-543c5c76d7b5",
      "metadata": {
        "scrolled": true,
        "collapsed": true,
        "id": "7ec07910-ab67-4aac-8a23-543c5c76d7b5",
        "outputId": "81d15a96-b935-471a-c171-3d275babd000"
      },
      "outputs": [
        {
          "data": {
            "text/plain": [
              "[Document(metadata={'source': 'paracetamol.pdf', 'page': 0}, page_content=' 1\\nPackage leaflet: Information for the user \\n \\nParacetamol 500 mg tablets \\nparacetamol  \\n \\n \\nRead all of this leaflet carefully before you start taking this  medicine because it contains \\nimportant information for you. \\nAlways take this medicine exactly as described in this leaflet or as your doctor or pharmacist told you. \\n- Keep this leaflet. You may need to read it again. \\n- Ask your pharmacist if you need more information or advice. \\n- If you get any side effects, talk to your doctor, or pharmacist . This includes any possible side \\neffects not listed in this leaflet. See section 4. \\nYou must talk to a doctor if you do not feel better or if you feel worse after 3 days of fever and 5 \\ndays of pain or if other symptoms appear.   \\n \\nWhat is in this leaflet  \\n1. What Paracetamol is and what it is used for \\n2. What you need to know before you take Paracetamol \\n3. How to take Paracetamol \\n4. Possible side effects \\n5. How to store Paracetamol \\n6. Contents of the pack and other information \\n \\n \\n1. What Paracetamol is and what it is used for \\n \\nParacetamol contains the active substance paracetamol which is a painkiller and also reduces your \\ntemperature when you have a fever. It is recommended for the short-term treatment of mild to moderate \\npain such as headache, toothache, muscle and joint pain and menstrual pain.  \\nIt also relieves fever associated with common colds and flu. \\n \\nYou must talk to a doctor if you do not feel better or if you feel worse after 3 days of fever and 5 days \\nof pain or if other symptoms appear.  \\n \\nParacetamol is indicated in adults and adolescents aged 12 or older. \\n \\n2. What you need to know before you take Paracetamol \\n \\nDo not take Paracetamol if: \\n- you are allergic to paracetamol or any of the other ingredients of this medicine (listed in section 6); \\n \\nWarnings and precautions \\nNever take more Paracetamol than what is stated in the dosing instructions. Higher doses than \\nrecommended will not lead to better pain relief, instead it increases the risk of very severe liver damage. \\nThe symptoms of liver damage usually appear after a few days. It is therefore important that you \\ncontact a doctor immediately if you have taken too high a dose, even if you are feeling fine. \\n \\nTalk to your doctor or pharmacist before taking Paracetamol.  \\n- if you have kidney problems   \\n- if you have liver problems   '),\n",
              " Document(metadata={'source': 'paracetamol.pdf', 'page': 1}, page_content=' 2\\n- if you have a hereditary disease called Gilbert’s syndrome  \\n- if you are taking other medicines affecting liver function  \\n- if you have Glucose-6-phosphate dehydrogenase deficiency (an enzyme deficiency)  \\n- if you have haemolytic anaemia (abnormal breakdown of red blood cells)  \\n- if you have glutathione deficiency  \\n- if you are dehydrated or if your doctor told you that you are suffering from chronic malnutrition \\n- if you weigh less than 50kg \\n- if you are elderly \\n- if you have alcohol problems or liver damage and also do not use Paracetamol with alcohol.  \\n- if you use other analgesics containing paracetamol you must not use Paracetamol  \\n- if you have been diagnosed with asthma and are also sensitive to acetylsalicylic acid (an anti-\\ninflammatory medicinal product) because there is a risk of bronchospasm \\n \\n- Talk to a doctor if the pain lasts more than 5 days or the temperature remains high or if these \\nsymptoms are accompanied by cough, headache, rash, nausea and vomiting. \\n \\nChildren and adolescents \\nParacetamol is not recommended for children under 12 years of age. Other formulations containing \\nparacetamol are available. \\n \\nOther medicines and Paracetamol \\nTell your doctor or pharmacist if you are taking, have recently taken or might take any other medicines: \\n \\n\\uf0b7 The concomitant use of Paracetamol might potentiate the effect of coumarin anticoagulants \\n(blood thinning medicine). \\n\\uf0b7 Cholestyramine (to lower cholesterol), reduces the absorption of Paracetamol. Metoclopramide \\nand domperidone (for nausea and vomiting) may increase the rate of absorption of Paracetamol. \\nHowever, concurrent use does not need to be avoided.  \\n\\uf0b7 The concomitant use of Paracetamol with phenothiazines may lead to hypothermia.  \\n\\uf0b7 Enzyme inductors, such as phenytoin, carbamazepine, phenobarbital, isoniazid, St Johns wort \\nmay increase the risk of hepatotoxicity. \\n\\uf0b7 Probenecid (a medicine for gout).  \\n\\uf0b7 Oral contraceptives and Rifampicin reduce the effects of Paracetamol. \\n \\nParacetamol with food, drink and alcohol  \\nParacetamol must not be taken together with alcohol due to a risk of an increase in the toxic effect of \\nparacetamol on the liver. \\n \\nPregnancy, breast-feeding and fertility  \\nIf you are pregnant or breast-feeding, think you may be pregnant or are planning to have a baby, ask \\nyour doctor for advice before taking this medicine. \\n \\nIf necessary, Paracetamol can be used during pregnancy. You should use the lowest possible dose that \\nreduces your pain and/or your fever and use it for the shortest time possible. Contact your doctor if the \\npain and/or fever are not reduced or if you need to take the medicine more often. \\n \\nYou can take this product whilst breastfeeding. \\n \\nDriving and using machines \\nParacetamol does not affect the ability to drive and use machines. '),\n",
              " Document(metadata={'source': 'paracetamol.pdf', 'page': 2}, page_content=' 3\\n \\nParacetamol contains sodium and wheat starch \\nThis medicine contains less than 1 mmol sodium (23 mg) per tablet, that is to say essentially ‘sodium-\\nfree’. \\nThis medicine contains only very low levels of gluten (from whe at starch) and is very unlikely to cause \\nproblems if you have coeliac disease. \\nOne tablet contains no more than 3 micrograms of gluten. If you  have wheat allergy (different form \\ncoeliac disease) you should not take this medicine. \\n \\n \\n3. How to take Paracetamol \\n \\nAlways take this medicine exactly as described in this leaflet or as your doctor or pharmacist has told \\nyou. Check with your doctor or pharmacist if you are not sure. \\n \\nParacetamol should be used at the lowest effective dose for the shortest possible time. Dose depends on \\nage and body weight, generally 10 to 15 mg/kg body weight as a single dose, up to a maximum of 60 \\nmg/kg body weight as the total daily dose, not exceeding 3000 mg.  \\n \\nDoses recommended as per the table below: \\n \\nAge Body weight Single dose Maximum \\ndaily dose \\nDosing interval \\n12 – 15 years 40 – 55  kg 500 mg (1 tablet) 2 - 3 g \\n(maximum of \\n4 - 6 tablets \\nper 24 hours) \\nat least \\n4 – 6 hours \\n> 15 years 40 – 55  kg 500 mg (1 tablet) 3 g (maximum \\nof 4 - 6 tablets \\nper 24 hours) \\nat least \\n4 – 6 hours \\n> 55 kg 500 – 1,000 mg (1-2 \\ntablets) \\n3 g \\n(maximum of \\n6 tablets per \\n24 hours) \\n \\nParacetamol is not recommended for children under 12 years of age. Other formulations containing \\nparacetamol are available.  \\n \\nThe length of the course of treatment without a consultation with a doctor must not exceed, for adults \\nand children 12 years and over, 3 days for fever and 5 days for pain. \\n \\nElderly \\nNormal adult dosage of paracetamol is usually appropriate. However, in frail, immobile elderly subjects \\nor in elderly patients with renal or hepatic impairment, or patients who have Gilbert’s syndrome, a \\nreduction in the amount or frequency of dosing may be appropriate. \\n \\nUse in kidney or liver impairment  \\nIf you have been diagnosed with kidney or liver problems, please consult your doctor or pharmacist. \\nYou may need to take a lower dose or increase the length of time between doses. \\n '),\n",
              " Document(metadata={'source': 'paracetamol.pdf', 'page': 3}, page_content=' 4\\nMethod of administration \\nSwallow the tablet with water.  \\nIf necessary, the tablet can be divided in two equal parts. Check with your doctor or pharmacist if you \\nare not sure about anything. \\n \\nIf you have taken more of Paracetamol than you should \\nIf you have used more Paracetamol than you should, immediate medical advice should be sought \\nbecause there is a risk of irreversible liver damage, even if you feel well. \\nTo prevent liver damage, it is important that your doctor can start treatment as soon as possible. The \\nsooner you receive treatment of an overdose the better are the chances to prevent damage to the liver.  \\nThese may not appear even in an overdose situation. \\n \\nIf you have any further questions on the use of this medicine, ask your doctor or pharmacist. \\n \\n \\n4. Possible side effects  \\n \\nLike all medicines, this medicine can cause side effects, although not everybody gets them. \\n \\nAgranulocytosis \\nStop taking Paracetamol and immediately contact a doctor if you experience one of the following \\nsymptoms (agranulocytosis): fever coupled with a severely deteriorated general state of health or a \\nfever in combination with sore throat/mouth or difficulty urinating, which are signs of infection. As \\nParacetamol can in rare cases lead to a deteriorated immune system due to a lack of white blood cells, \\ninfections can become serious. For this reason, it is also important that you inform health care personnel \\nabout your medication \\n \\nStevens-Johnson syndrome / TEN/AGEP \\nStop taking Paracetamol and immediately contact a doctor or go to the emergency department if you \\nexperience the following symptoms: Extremely intense and serious skin reactions, such as Stevens-\\nJohnson syndrome, toxic epidermal necrolysis and acute generalized exanthematous pustulosis (AGEP) \\nhave been reported during use of Paracetamol. \\nThe adverse reaction of the skin may appear as rashes with or without blisters. Skin irritation, sores or \\nswelling in the mouth, throat, eyes, nose and around the genitals (Stevens-Johnson syndrome) and fever \\nand flulike symptoms may occur. The skin rashes may develop into serious widespread skin damage \\n(peeling of the epidermis and superficial mucous membranes) with life-threatening consequences. \\nIf symptoms of AGEP appear, it usually occurs in conjunction with the start of treatment. \\n \\nAngioedema \\nStop using Paracetamol and immediately contact a doctor if you experience any of the following \\nsymptoms (angioedema): swelling of the face, tongue or throat; difficulty swallowing; hives and \\nbreathing difficulties. \\n \\nIn rare cases allergic reactions are observed – itching, rash, very rarely – changes in the blood count, \\ne.g. thrombocytopenia (decrease of the number of blood plates). \\n \\nRare (may affect up to 1 in 1000 users): \\n \\n- Angioedema, very severe allergic reaction (swelling of the face, tongue or throat, difficulty \\nswallowing, hives and difficulty breathing) '),\n",
              " Document(metadata={'source': 'paracetamol.pdf', 'page': 4}, page_content=' 5\\n- Allergic reactions such as skin rashes and hives. Even less severe forms of skin reactions, rashes \\nand itching may occur. \\n- Liver impact. This can be very serious and can produce symptoms such as fatigue, nausea, \\nvomiting, stomach upset and loss of appetite. \\n \\nVery rare (may affect up to 1 in 10,000 users): \\n \\n- Bleeding from the skin and mucous membranes and bruises, general lethargy, tendency to \\ninflammation (infections) especially sore throat and fever due to changes in the blood (decreased \\nnumber of white blood cells and platelets).  \\n- Severe breathing difficulties with panting breathing.  \\n- Kidney side effects.  \\n- Paleness, fatigue and jaundice due to severe anaemia.  \\n- Very rare cases of severe skin reactions have been reported.  \\n- Anaphylaxis: hypersensitivity reaction with fever, skin rash, swelling, and sometimes a drop in \\nblood pressure. \\n \\nIn case of long-term use of high doses of Paracetamol, the functions of the liver may be impaired (the \\nskin and the eyes become yellow, nausea, stomach pain or discomfort, easily getting tired).  \\n \\nIf any of the side effects becomes serious or if you notice other side effects, which are not listed in this \\nleaflet, please, talk to your doctor or pharmacist. \\n \\nReporting of side effects \\nIf you get any side effects, talk to your doctor. This includes any possible side effects not listed in \\nthis leaflet. You can also report side effects directly via HPRA Pharmacovigilance, Website: \\nwww.hpra.ie. \\n \\nBy reporting side effects, you can help provide more information on the safety of this medicine. \\n \\n \\n5. How to store Paracetamol \\n \\nKeep this medicine out of the sight and reach of children. \\n \\nStore below 25°С.  \\n \\nDo not use this drug after the expiry date which is stated on the cardboard package. The expiry date \\nrefers to the last day of the month. \\n \\nDo not use this drug if you notice a breach of the integrity of the blister or a change in the colour of the \\ntablets. \\n \\nDo not throw away any medicines via wastewater or household waste. Ask your pharmacist how to \\nthrow away medicines you no longer use. These measures will help protect the environment. \\n \\n \\n6. Contents of the pack and other information \\n \\nWhat Paracetamol contains  \\n- The active substance is: paracetamol. Each table contains 500 mg paracetamol. '),\n",
              " Document(metadata={'source': 'paracetamol.pdf', 'page': 5}, page_content=' 6\\n- The other ingredients (excipients) are: wheat starch; cellulo se, microcrystalline (PH 101); sodium \\nstarch glycolate (type A); magnesium stearate (vegetable grade); talc; povidone (K25); silica, \\ncolloidal, anhydrous (aerosil 200/ hydrophilic pyrogenic silica). \\n \\nWhat Paracetamol looks like and contents of the pack \\nRound, flat tablets, with a facet and a score line on one side, with a 13 mm diameter and 4 mm \\nthickness. Colour – white to almost white. \\n  \\nParacetamol 500mg tablets packs in PVC/aluminium blisters in packs of 12, 20 and 24 tablets \\nNot all packs sizes may be marketed. \\n \\nMarketing Authorisation Holder \\nBluefish Pharmaceuticals AB  \\nP.O. Box 49013  \\n100 28 Stockholm  \\nSweden  \\n \\nManufacturer \\nInbiotech Ltd. \\n5A Triaditza Str. \\nSofia 1000 \\nBulgaria \\n \\nThis medicinal product is authorised in the Member States of the EEA under the following \\nnames: \\nIreland Paracetamol 500mg tablets \\nPortugal Paracetamol Bluefish \\nSweden Paracetamol Bluefish \\n \\nThis leaflet was last revised in 07/2022 \\n ')]"
            ]
          },
          "execution_count": 3,
          "metadata": {},
          "output_type": "execute_result"
        }
      ],
      "source": [
        "raw_load=raw_doc.load()\n",
        "raw_load"
      ]
    },
    {
      "cell_type": "code",
      "execution_count": null,
      "id": "646d9c09-3691-4861-a7e7-4b742e0f97a3",
      "metadata": {
        "collapsed": true,
        "id": "646d9c09-3691-4861-a7e7-4b742e0f97a3",
        "outputId": "c1944a23-0987-46b0-f466-85268cd479e8"
      },
      "outputs": [
        {
          "data": {
            "text/plain": [
              "<langchain_text_splitters.character.RecursiveCharacterTextSplitter at 0x75c199cfb9a0>"
            ]
          },
          "execution_count": 4,
          "metadata": {},
          "output_type": "execute_result"
        }
      ],
      "source": [
        "from langchain.text_splitter import RecursiveCharacterTextSplitter\n",
        "\n",
        "splitted_text=RecursiveCharacterTextSplitter(chunk_size=100,chunk_overlap=20)\n",
        "splitted_text"
      ]
    },
    {
      "cell_type": "code",
      "execution_count": null,
      "id": "30e64503-6e28-428e-8f9e-bc682e5bb3ee",
      "metadata": {
        "scrolled": true,
        "id": "30e64503-6e28-428e-8f9e-bc682e5bb3ee"
      },
      "outputs": [],
      "source": [
        "#Chunks of text\n",
        "text_split=splitted_text.split_documents(raw_load)\n",
        "text_split"
      ]
    },
    {
      "cell_type": "code",
      "execution_count": null,
      "id": "f5091b49-ee79-4e7b-acb4-3a4e94585a5e",
      "metadata": {
        "scrolled": true,
        "collapsed": true,
        "id": "f5091b49-ee79-4e7b-acb4-3a4e94585a5e",
        "outputId": "2f0d3d3a-523d-4a9a-e05f-61fbf82b2ed2"
      },
      "outputs": [
        {
          "name": "stdout",
          "output_type": "stream",
          "text": [
            "Requirement already satisfied: sentence_transformers in /usr/local/lib/python3.10/dist-packages (3.2.1)\n",
            "Requirement already satisfied: transformers<5.0.0,>=4.41.0 in /usr/local/lib/python3.10/dist-packages (from sentence_transformers) (4.46.1)\n",
            "Requirement already satisfied: tqdm in /usr/local/lib/python3.10/dist-packages (from sentence_transformers) (4.66.6)\n",
            "Requirement already satisfied: torch>=1.11.0 in /usr/local/lib/python3.10/dist-packages (from sentence_transformers) (2.3.1)\n",
            "Requirement already satisfied: scikit-learn in /usr/local/lib/python3.10/dist-packages (from sentence_transformers) (1.5.2)\n",
            "Requirement already satisfied: scipy in /usr/local/lib/python3.10/dist-packages (from sentence_transformers) (1.14.1)\n",
            "Requirement already satisfied: huggingface-hub>=0.20.0 in /usr/local/lib/python3.10/dist-packages (from sentence_transformers) (0.26.2)\n",
            "Requirement already satisfied: Pillow in /usr/local/lib/python3.10/dist-packages (from sentence_transformers) (9.3.0)\n",
            "Requirement already satisfied: filelock in /usr/local/lib/python3.10/dist-packages (from huggingface-hub>=0.20.0->sentence_transformers) (3.9.0)\n",
            "Requirement already satisfied: fsspec>=2023.5.0 in /usr/local/lib/python3.10/dist-packages (from huggingface-hub>=0.20.0->sentence_transformers) (2024.9.0)\n",
            "Requirement already satisfied: packaging>=20.9 in /usr/local/lib/python3.10/dist-packages (from huggingface-hub>=0.20.0->sentence_transformers) (23.2)\n",
            "Requirement already satisfied: pyyaml>=5.1 in /usr/local/lib/python3.10/dist-packages (from huggingface-hub>=0.20.0->sentence_transformers) (6.0.1)\n",
            "Requirement already satisfied: requests in /usr/local/lib/python3.10/dist-packages (from huggingface-hub>=0.20.0->sentence_transformers) (2.32.3)\n",
            "Requirement already satisfied: typing-extensions>=3.7.4.3 in /usr/local/lib/python3.10/dist-packages (from huggingface-hub>=0.20.0->sentence_transformers) (4.12.2)\n",
            "Requirement already satisfied: sympy in /usr/local/lib/python3.10/dist-packages (from torch>=1.11.0->sentence_transformers) (1.12)\n",
            "Requirement already satisfied: networkx in /usr/local/lib/python3.10/dist-packages (from torch>=1.11.0->sentence_transformers) (3.0)\n",
            "Requirement already satisfied: jinja2 in /usr/local/lib/python3.10/dist-packages (from torch>=1.11.0->sentence_transformers) (3.1.2)\n",
            "Requirement already satisfied: nvidia-cuda-nvrtc-cu12==12.1.105 in /usr/local/lib/python3.10/dist-packages (from torch>=1.11.0->sentence_transformers) (12.1.105)\n",
            "Requirement already satisfied: nvidia-cuda-runtime-cu12==12.1.105 in /usr/local/lib/python3.10/dist-packages (from torch>=1.11.0->sentence_transformers) (12.1.105)\n",
            "Requirement already satisfied: nvidia-cuda-cupti-cu12==12.1.105 in /usr/local/lib/python3.10/dist-packages (from torch>=1.11.0->sentence_transformers) (12.1.105)\n",
            "Requirement already satisfied: nvidia-cudnn-cu12==8.9.2.26 in /usr/local/lib/python3.10/dist-packages (from torch>=1.11.0->sentence_transformers) (8.9.2.26)\n",
            "Requirement already satisfied: nvidia-cublas-cu12==12.1.3.1 in /usr/local/lib/python3.10/dist-packages (from torch>=1.11.0->sentence_transformers) (12.1.3.1)\n",
            "Requirement already satisfied: nvidia-cufft-cu12==11.0.2.54 in /usr/local/lib/python3.10/dist-packages (from torch>=1.11.0->sentence_transformers) (11.0.2.54)\n",
            "Requirement already satisfied: nvidia-curand-cu12==10.3.2.106 in /usr/local/lib/python3.10/dist-packages (from torch>=1.11.0->sentence_transformers) (10.3.2.106)\n",
            "Requirement already satisfied: nvidia-cusolver-cu12==11.4.5.107 in /usr/local/lib/python3.10/dist-packages (from torch>=1.11.0->sentence_transformers) (11.4.5.107)\n",
            "Requirement already satisfied: nvidia-cusparse-cu12==12.1.0.106 in /usr/local/lib/python3.10/dist-packages (from torch>=1.11.0->sentence_transformers) (12.1.0.106)\n",
            "Requirement already satisfied: nvidia-nccl-cu12==2.20.5 in /usr/local/lib/python3.10/dist-packages (from torch>=1.11.0->sentence_transformers) (2.20.5)\n",
            "Requirement already satisfied: nvidia-nvtx-cu12==12.1.105 in /usr/local/lib/python3.10/dist-packages (from torch>=1.11.0->sentence_transformers) (12.1.105)\n",
            "Requirement already satisfied: triton==2.3.1 in /usr/local/lib/python3.10/dist-packages (from torch>=1.11.0->sentence_transformers) (2.3.1)\n",
            "Requirement already satisfied: nvidia-nvjitlink-cu12 in /usr/local/lib/python3.10/dist-packages (from nvidia-cusolver-cu12==11.4.5.107->torch>=1.11.0->sentence_transformers) (12.6.77)\n",
            "Requirement already satisfied: numpy>=1.17 in /usr/local/lib/python3.10/dist-packages (from transformers<5.0.0,>=4.41.0->sentence_transformers) (1.24.1)\n",
            "Requirement already satisfied: regex!=2019.12.17 in /usr/local/lib/python3.10/dist-packages (from transformers<5.0.0,>=4.41.0->sentence_transformers) (2024.9.11)\n",
            "Requirement already satisfied: safetensors>=0.4.1 in /usr/local/lib/python3.10/dist-packages (from transformers<5.0.0,>=4.41.0->sentence_transformers) (0.4.5)\n",
            "Requirement already satisfied: tokenizers<0.21,>=0.20 in /usr/local/lib/python3.10/dist-packages (from transformers<5.0.0,>=4.41.0->sentence_transformers) (0.20.1)\n",
            "Requirement already satisfied: joblib>=1.2.0 in /usr/local/lib/python3.10/dist-packages (from scikit-learn->sentence_transformers) (1.4.2)\n",
            "Requirement already satisfied: threadpoolctl>=3.1.0 in /usr/local/lib/python3.10/dist-packages (from scikit-learn->sentence_transformers) (3.5.0)\n",
            "Requirement already satisfied: MarkupSafe>=2.0 in /usr/local/lib/python3.10/dist-packages (from jinja2->torch>=1.11.0->sentence_transformers) (2.1.2)\n",
            "Requirement already satisfied: charset-normalizer<4,>=2 in /usr/local/lib/python3.10/dist-packages (from requests->huggingface-hub>=0.20.0->sentence_transformers) (2.1.1)\n",
            "Requirement already satisfied: idna<4,>=2.5 in /usr/local/lib/python3.10/dist-packages (from requests->huggingface-hub>=0.20.0->sentence_transformers) (3.4)\n",
            "Requirement already satisfied: urllib3<3,>=1.21.1 in /usr/local/lib/python3.10/dist-packages (from requests->huggingface-hub>=0.20.0->sentence_transformers) (1.26.13)\n",
            "Requirement already satisfied: certifi>=2017.4.17 in /usr/local/lib/python3.10/dist-packages (from requests->huggingface-hub>=0.20.0->sentence_transformers) (2022.12.7)\n",
            "Requirement already satisfied: mpmath>=0.19 in /usr/local/lib/python3.10/dist-packages (from sympy->torch>=1.11.0->sentence_transformers) (1.3.0)\n",
            "\u001b[33mWARNING: Running pip as the 'root' user can result in broken permissions and conflicting behaviour with the system package manager. It is recommended to use a virtual environment instead: https://pip.pypa.io/warnings/venv\u001b[0m\u001b[33m\n",
            "\u001b[0m\n",
            "\u001b[1m[\u001b[0m\u001b[34;49mnotice\u001b[0m\u001b[1;39;49m]\u001b[0m\u001b[39;49m A new release of pip is available: \u001b[0m\u001b[31;49m23.3.1\u001b[0m\u001b[39;49m -> \u001b[0m\u001b[32;49m24.3.1\u001b[0m\n",
            "\u001b[1m[\u001b[0m\u001b[34;49mnotice\u001b[0m\u001b[1;39;49m]\u001b[0m\u001b[39;49m To update, run: \u001b[0m\u001b[32;49mpython -m pip install --upgrade pip\u001b[0m\n"
          ]
        }
      ],
      "source": [
        "!pip install sentence_transformers"
      ]
    },
    {
      "cell_type": "code",
      "execution_count": null,
      "id": "b83f3bd4-74a1-476e-99bc-61ccddd7eb44",
      "metadata": {
        "scrolled": true,
        "collapsed": true,
        "id": "b83f3bd4-74a1-476e-99bc-61ccddd7eb44",
        "outputId": "b1259f17-e162-424f-cce8-5d333d8f85df"
      },
      "outputs": [
        {
          "name": "stderr",
          "output_type": "stream",
          "text": [
            "/usr/local/lib/python3.10/dist-packages/sentence_transformers/cross_encoder/CrossEncoder.py:13: TqdmExperimentalWarning: Using `tqdm.autonotebook.tqdm` in notebook mode. Use `tqdm.tqdm` instead to force console mode (e.g. in jupyter console)\n",
            "  from tqdm.autonotebook import tqdm, trange\n",
            "/tmp/ipykernel_1299/1378607185.py:3: LangChainDeprecationWarning: The class `HuggingFaceEmbeddings` was deprecated in LangChain 0.2.2 and will be removed in 1.0. An updated version of the class exists in the :class:`~langchain-huggingface package and should be used instead. To use it run `pip install -U :class:`~langchain-huggingface` and import as `from :class:`~langchain_huggingface import HuggingFaceEmbeddings``.\n",
            "  embeddings = HuggingFaceEmbeddings(model_name=\"all-MiniLM-L6-v2\")\n"
          ]
        }
      ],
      "source": [
        "from sentence_transformers import SentenceTransformer\n",
        "from langchain.embeddings import HuggingFaceEmbeddings\n",
        "embedding_model = SentenceTransformer('all-MiniLM-L6-v2')\n",
        "embeddings = HuggingFaceEmbeddings(model_name=\"all-MiniLM-L6-v2\")"
      ]
    },
    {
      "cell_type": "code",
      "execution_count": null,
      "id": "190ec98b-9439-4833-8558-22335287bca9",
      "metadata": {
        "id": "190ec98b-9439-4833-8558-22335287bca9"
      },
      "outputs": [],
      "source": [
        "from langchain.vectorstores import Chroma\n",
        "from langchain.embeddings import HuggingFaceEmbeddings\n",
        "from langchain.text_splitter import RecursiveCharacterTextSplitter\n",
        "from langchain.schema import Document"
      ]
    },
    {
      "cell_type": "code",
      "execution_count": null,
      "id": "231cffc4-cd43-449b-9f68-95f1a9d4e85c",
      "metadata": {
        "scrolled": true,
        "collapsed": true,
        "id": "231cffc4-cd43-449b-9f68-95f1a9d4e85c",
        "outputId": "1b11e6e5-382c-426f-cdc2-c7dcc70a2141"
      },
      "outputs": [
        {
          "name": "stdout",
          "output_type": "stream",
          "text": [
            "Requirement already satisfied: chromadb in /usr/local/lib/python3.10/dist-packages (0.5.16)\n",
            "Requirement already satisfied: build>=1.0.3 in /usr/local/lib/python3.10/dist-packages (from chromadb) (1.2.2.post1)\n",
            "Requirement already satisfied: pydantic>=1.9 in /usr/local/lib/python3.10/dist-packages (from chromadb) (2.9.2)\n",
            "Requirement already satisfied: chroma-hnswlib==0.7.6 in /usr/local/lib/python3.10/dist-packages (from chromadb) (0.7.6)\n",
            "Requirement already satisfied: fastapi>=0.95.2 in /usr/local/lib/python3.10/dist-packages (from chromadb) (0.115.4)\n",
            "Requirement already satisfied: uvicorn>=0.18.3 in /usr/local/lib/python3.10/dist-packages (from uvicorn[standard]>=0.18.3->chromadb) (0.32.0)\n",
            "Requirement already satisfied: numpy>=1.22.5 in /usr/local/lib/python3.10/dist-packages (from chromadb) (1.24.1)\n",
            "Requirement already satisfied: posthog>=2.4.0 in /usr/local/lib/python3.10/dist-packages (from chromadb) (3.7.0)\n",
            "Requirement already satisfied: typing-extensions>=4.5.0 in /usr/local/lib/python3.10/dist-packages (from chromadb) (4.12.2)\n",
            "Requirement already satisfied: onnxruntime>=1.14.1 in /usr/local/lib/python3.10/dist-packages (from chromadb) (1.19.2)\n",
            "Requirement already satisfied: opentelemetry-api>=1.2.0 in /usr/local/lib/python3.10/dist-packages (from chromadb) (1.27.0)\n",
            "Requirement already satisfied: opentelemetry-exporter-otlp-proto-grpc>=1.2.0 in /usr/local/lib/python3.10/dist-packages (from chromadb) (1.27.0)\n",
            "Requirement already satisfied: opentelemetry-instrumentation-fastapi>=0.41b0 in /usr/local/lib/python3.10/dist-packages (from chromadb) (0.48b0)\n",
            "Requirement already satisfied: opentelemetry-sdk>=1.2.0 in /usr/local/lib/python3.10/dist-packages (from chromadb) (1.27.0)\n",
            "Requirement already satisfied: tokenizers>=0.13.2 in /usr/local/lib/python3.10/dist-packages (from chromadb) (0.20.1)\n",
            "Requirement already satisfied: pypika>=0.48.9 in /usr/local/lib/python3.10/dist-packages (from chromadb) (0.48.9)\n",
            "Requirement already satisfied: tqdm>=4.65.0 in /usr/local/lib/python3.10/dist-packages (from chromadb) (4.66.6)\n",
            "Requirement already satisfied: overrides>=7.3.1 in /usr/local/lib/python3.10/dist-packages (from chromadb) (7.4.0)\n",
            "Requirement already satisfied: importlib-resources in /usr/local/lib/python3.10/dist-packages (from chromadb) (6.4.5)\n",
            "Requirement already satisfied: grpcio>=1.58.0 in /usr/local/lib/python3.10/dist-packages (from chromadb) (1.67.1)\n",
            "Requirement already satisfied: bcrypt>=4.0.1 in /usr/local/lib/python3.10/dist-packages (from chromadb) (4.2.0)\n",
            "Requirement already satisfied: typer>=0.9.0 in /usr/local/lib/python3.10/dist-packages (from chromadb) (0.12.5)\n",
            "Requirement already satisfied: kubernetes>=28.1.0 in /usr/local/lib/python3.10/dist-packages (from chromadb) (31.0.0)\n",
            "Requirement already satisfied: tenacity>=8.2.3 in /usr/local/lib/python3.10/dist-packages (from chromadb) (9.0.0)\n",
            "Requirement already satisfied: PyYAML>=6.0.0 in /usr/local/lib/python3.10/dist-packages (from chromadb) (6.0.1)\n",
            "Requirement already satisfied: mmh3>=4.0.1 in /usr/local/lib/python3.10/dist-packages (from chromadb) (5.0.1)\n",
            "Requirement already satisfied: orjson>=3.9.12 in /usr/local/lib/python3.10/dist-packages (from chromadb) (3.10.10)\n",
            "Requirement already satisfied: httpx>=0.27.0 in /usr/local/lib/python3.10/dist-packages (from chromadb) (0.27.2)\n",
            "Requirement already satisfied: rich>=10.11.0 in /usr/local/lib/python3.10/dist-packages (from chromadb) (13.9.3)\n",
            "Requirement already satisfied: packaging>=19.1 in /usr/local/lib/python3.10/dist-packages (from build>=1.0.3->chromadb) (23.2)\n",
            "Requirement already satisfied: pyproject_hooks in /usr/local/lib/python3.10/dist-packages (from build>=1.0.3->chromadb) (1.2.0)\n",
            "Requirement already satisfied: tomli>=1.1.0 in /usr/local/lib/python3.10/dist-packages (from build>=1.0.3->chromadb) (2.0.1)\n",
            "Requirement already satisfied: starlette<0.42.0,>=0.40.0 in /usr/local/lib/python3.10/dist-packages (from fastapi>=0.95.2->chromadb) (0.41.2)\n",
            "Requirement already satisfied: anyio in /usr/local/lib/python3.10/dist-packages (from httpx>=0.27.0->chromadb) (4.0.0)\n",
            "Requirement already satisfied: certifi in /usr/local/lib/python3.10/dist-packages (from httpx>=0.27.0->chromadb) (2022.12.7)\n",
            "Requirement already satisfied: httpcore==1.* in /usr/local/lib/python3.10/dist-packages (from httpx>=0.27.0->chromadb) (1.0.6)\n",
            "Requirement already satisfied: idna in /usr/local/lib/python3.10/dist-packages (from httpx>=0.27.0->chromadb) (3.4)\n",
            "Requirement already satisfied: sniffio in /usr/local/lib/python3.10/dist-packages (from httpx>=0.27.0->chromadb) (1.3.0)\n",
            "Requirement already satisfied: h11<0.15,>=0.13 in /usr/local/lib/python3.10/dist-packages (from httpcore==1.*->httpx>=0.27.0->chromadb) (0.14.0)\n",
            "Requirement already satisfied: six>=1.9.0 in /usr/lib/python3/dist-packages (from kubernetes>=28.1.0->chromadb) (1.16.0)\n",
            "Requirement already satisfied: python-dateutil>=2.5.3 in /usr/local/lib/python3.10/dist-packages (from kubernetes>=28.1.0->chromadb) (2.8.2)\n",
            "Requirement already satisfied: google-auth>=1.0.1 in /usr/local/lib/python3.10/dist-packages (from kubernetes>=28.1.0->chromadb) (2.35.0)\n",
            "Requirement already satisfied: websocket-client!=0.40.0,!=0.41.*,!=0.42.*,>=0.32.0 in /usr/local/lib/python3.10/dist-packages (from kubernetes>=28.1.0->chromadb) (1.6.4)\n",
            "Requirement already satisfied: requests in /usr/local/lib/python3.10/dist-packages (from kubernetes>=28.1.0->chromadb) (2.32.3)\n",
            "Requirement already satisfied: requests-oauthlib in /usr/local/lib/python3.10/dist-packages (from kubernetes>=28.1.0->chromadb) (2.0.0)\n",
            "Requirement already satisfied: oauthlib>=3.2.2 in /usr/local/lib/python3.10/dist-packages (from kubernetes>=28.1.0->chromadb) (3.2.2)\n",
            "Requirement already satisfied: urllib3>=1.24.2 in /usr/local/lib/python3.10/dist-packages (from kubernetes>=28.1.0->chromadb) (1.26.13)\n",
            "Requirement already satisfied: durationpy>=0.7 in /usr/local/lib/python3.10/dist-packages (from kubernetes>=28.1.0->chromadb) (0.9)\n",
            "Requirement already satisfied: coloredlogs in /usr/local/lib/python3.10/dist-packages (from onnxruntime>=1.14.1->chromadb) (15.0.1)\n",
            "Requirement already satisfied: flatbuffers in /usr/local/lib/python3.10/dist-packages (from onnxruntime>=1.14.1->chromadb) (24.3.25)\n",
            "Requirement already satisfied: protobuf in /usr/local/lib/python3.10/dist-packages (from onnxruntime>=1.14.1->chromadb) (4.25.5)\n",
            "Requirement already satisfied: sympy in /usr/local/lib/python3.10/dist-packages (from onnxruntime>=1.14.1->chromadb) (1.12)\n",
            "Requirement already satisfied: deprecated>=1.2.6 in /usr/local/lib/python3.10/dist-packages (from opentelemetry-api>=1.2.0->chromadb) (1.2.14)\n",
            "Requirement already satisfied: importlib-metadata<=8.4.0,>=6.0 in /usr/local/lib/python3.10/dist-packages (from opentelemetry-api>=1.2.0->chromadb) (8.4.0)\n",
            "Requirement already satisfied: googleapis-common-protos~=1.52 in /usr/local/lib/python3.10/dist-packages (from opentelemetry-exporter-otlp-proto-grpc>=1.2.0->chromadb) (1.65.0)\n",
            "Requirement already satisfied: opentelemetry-exporter-otlp-proto-common==1.27.0 in /usr/local/lib/python3.10/dist-packages (from opentelemetry-exporter-otlp-proto-grpc>=1.2.0->chromadb) (1.27.0)\n",
            "Requirement already satisfied: opentelemetry-proto==1.27.0 in /usr/local/lib/python3.10/dist-packages (from opentelemetry-exporter-otlp-proto-grpc>=1.2.0->chromadb) (1.27.0)\n",
            "Requirement already satisfied: opentelemetry-instrumentation-asgi==0.48b0 in /usr/local/lib/python3.10/dist-packages (from opentelemetry-instrumentation-fastapi>=0.41b0->chromadb) (0.48b0)\n",
            "Requirement already satisfied: opentelemetry-instrumentation==0.48b0 in /usr/local/lib/python3.10/dist-packages (from opentelemetry-instrumentation-fastapi>=0.41b0->chromadb) (0.48b0)\n",
            "Requirement already satisfied: opentelemetry-semantic-conventions==0.48b0 in /usr/local/lib/python3.10/dist-packages (from opentelemetry-instrumentation-fastapi>=0.41b0->chromadb) (0.48b0)\n",
            "Requirement already satisfied: opentelemetry-util-http==0.48b0 in /usr/local/lib/python3.10/dist-packages (from opentelemetry-instrumentation-fastapi>=0.41b0->chromadb) (0.48b0)\n",
            "Requirement already satisfied: setuptools>=16.0 in /usr/local/lib/python3.10/dist-packages (from opentelemetry-instrumentation==0.48b0->opentelemetry-instrumentation-fastapi>=0.41b0->chromadb) (68.2.2)\n",
            "Requirement already satisfied: wrapt<2.0.0,>=1.0.0 in /usr/local/lib/python3.10/dist-packages (from opentelemetry-instrumentation==0.48b0->opentelemetry-instrumentation-fastapi>=0.41b0->chromadb) (1.16.0)\n",
            "Requirement already satisfied: asgiref~=3.0 in /usr/local/lib/python3.10/dist-packages (from opentelemetry-instrumentation-asgi==0.48b0->opentelemetry-instrumentation-fastapi>=0.41b0->chromadb) (3.8.1)\n",
            "Requirement already satisfied: monotonic>=1.5 in /usr/local/lib/python3.10/dist-packages (from posthog>=2.4.0->chromadb) (1.6)\n",
            "Requirement already satisfied: backoff>=1.10.0 in /usr/local/lib/python3.10/dist-packages (from posthog>=2.4.0->chromadb) (2.2.1)\n",
            "Requirement already satisfied: annotated-types>=0.6.0 in /usr/local/lib/python3.10/dist-packages (from pydantic>=1.9->chromadb) (0.7.0)\n",
            "Requirement already satisfied: pydantic-core==2.23.4 in /usr/local/lib/python3.10/dist-packages (from pydantic>=1.9->chromadb) (2.23.4)\n",
            "Requirement already satisfied: markdown-it-py>=2.2.0 in /usr/local/lib/python3.10/dist-packages (from rich>=10.11.0->chromadb) (3.0.0)\n",
            "Requirement already satisfied: pygments<3.0.0,>=2.13.0 in /usr/local/lib/python3.10/dist-packages (from rich>=10.11.0->chromadb) (2.16.1)\n",
            "Requirement already satisfied: huggingface-hub<1.0,>=0.16.4 in /usr/local/lib/python3.10/dist-packages (from tokenizers>=0.13.2->chromadb) (0.26.2)\n",
            "Requirement already satisfied: click>=8.0.0 in /usr/local/lib/python3.10/dist-packages (from typer>=0.9.0->chromadb) (8.1.7)\n",
            "Requirement already satisfied: shellingham>=1.3.0 in /usr/local/lib/python3.10/dist-packages (from typer>=0.9.0->chromadb) (1.5.4)\n",
            "Requirement already satisfied: httptools>=0.5.0 in /usr/local/lib/python3.10/dist-packages (from uvicorn[standard]>=0.18.3->chromadb) (0.6.4)\n",
            "Requirement already satisfied: python-dotenv>=0.13 in /usr/local/lib/python3.10/dist-packages (from uvicorn[standard]>=0.18.3->chromadb) (1.0.1)\n",
            "Requirement already satisfied: uvloop!=0.15.0,!=0.15.1,>=0.14.0 in /usr/local/lib/python3.10/dist-packages (from uvicorn[standard]>=0.18.3->chromadb) (0.21.0)\n",
            "Requirement already satisfied: watchfiles>=0.13 in /usr/local/lib/python3.10/dist-packages (from uvicorn[standard]>=0.18.3->chromadb) (0.24.0)\n",
            "Requirement already satisfied: websockets>=10.4 in /usr/local/lib/python3.10/dist-packages (from uvicorn[standard]>=0.18.3->chromadb) (13.1)\n",
            "Requirement already satisfied: cachetools<6.0,>=2.0.0 in /usr/local/lib/python3.10/dist-packages (from google-auth>=1.0.1->kubernetes>=28.1.0->chromadb) (5.5.0)\n",
            "Requirement already satisfied: pyasn1-modules>=0.2.1 in /usr/local/lib/python3.10/dist-packages (from google-auth>=1.0.1->kubernetes>=28.1.0->chromadb) (0.4.1)\n",
            "Requirement already satisfied: rsa<5,>=3.1.4 in /usr/local/lib/python3.10/dist-packages (from google-auth>=1.0.1->kubernetes>=28.1.0->chromadb) (4.9)\n",
            "Requirement already satisfied: filelock in /usr/local/lib/python3.10/dist-packages (from huggingface-hub<1.0,>=0.16.4->tokenizers>=0.13.2->chromadb) (3.9.0)\n",
            "Requirement already satisfied: fsspec>=2023.5.0 in /usr/local/lib/python3.10/dist-packages (from huggingface-hub<1.0,>=0.16.4->tokenizers>=0.13.2->chromadb) (2024.9.0)\n",
            "Requirement already satisfied: zipp>=0.5 in /usr/lib/python3/dist-packages (from importlib-metadata<=8.4.0,>=6.0->opentelemetry-api>=1.2.0->chromadb) (1.0.0)\n",
            "Requirement already satisfied: mdurl~=0.1 in /usr/local/lib/python3.10/dist-packages (from markdown-it-py>=2.2.0->rich>=10.11.0->chromadb) (0.1.2)\n",
            "Requirement already satisfied: charset-normalizer<4,>=2 in /usr/local/lib/python3.10/dist-packages (from requests->kubernetes>=28.1.0->chromadb) (2.1.1)\n",
            "Requirement already satisfied: exceptiongroup>=1.0.2 in /usr/local/lib/python3.10/dist-packages (from anyio->httpx>=0.27.0->chromadb) (1.1.3)\n",
            "Requirement already satisfied: humanfriendly>=9.1 in /usr/local/lib/python3.10/dist-packages (from coloredlogs->onnxruntime>=1.14.1->chromadb) (10.0)\n",
            "Requirement already satisfied: mpmath>=0.19 in /usr/local/lib/python3.10/dist-packages (from sympy->onnxruntime>=1.14.1->chromadb) (1.3.0)\n",
            "Requirement already satisfied: pyasn1<0.7.0,>=0.4.6 in /usr/local/lib/python3.10/dist-packages (from pyasn1-modules>=0.2.1->google-auth>=1.0.1->kubernetes>=28.1.0->chromadb) (0.6.1)\n",
            "\u001b[33mWARNING: Running pip as the 'root' user can result in broken permissions and conflicting behaviour with the system package manager. It is recommended to use a virtual environment instead: https://pip.pypa.io/warnings/venv\u001b[0m\u001b[33m\n",
            "\u001b[0m\n",
            "\u001b[1m[\u001b[0m\u001b[34;49mnotice\u001b[0m\u001b[1;39;49m]\u001b[0m\u001b[39;49m A new release of pip is available: \u001b[0m\u001b[31;49m23.3.1\u001b[0m\u001b[39;49m -> \u001b[0m\u001b[32;49m24.3.1\u001b[0m\n",
            "\u001b[1m[\u001b[0m\u001b[34;49mnotice\u001b[0m\u001b[1;39;49m]\u001b[0m\u001b[39;49m To update, run: \u001b[0m\u001b[32;49mpython -m pip install --upgrade pip\u001b[0m\n",
            "Note: you may need to restart the kernel to use updated packages.\n"
          ]
        }
      ],
      "source": [
        "!pip install chromadb"
      ]
    },
    {
      "cell_type": "code",
      "execution_count": null,
      "id": "dcd51f82-7f55-4841-be04-ebf8b707f030",
      "metadata": {
        "id": "dcd51f82-7f55-4841-be04-ebf8b707f030"
      },
      "outputs": [],
      "source": [
        "# Create Chroma vector store\n",
        "embedding_model = HuggingFaceEmbeddings(model_name=\"all-MiniLM-L6-v2\")\n",
        "db = Chroma.from_documents(documents=text_split, embedding=embedding_model)\n",
        "db"
      ]
    },
    {
      "cell_type": "code",
      "execution_count": null,
      "id": "91eddf5c-26cc-48bc-a986-0bbf99fcefce",
      "metadata": {
        "collapsed": true,
        "id": "91eddf5c-26cc-48bc-a986-0bbf99fcefce",
        "outputId": "27da15bb-349a-46c3-c54f-e39346d61ab4"
      },
      "outputs": [
        {
          "name": "stderr",
          "output_type": "stream",
          "text": [
            "huggingface/tokenizers: The current process just got forked, after parallelism has already been used. Disabling parallelism to avoid deadlocks...\n",
            "To disable this warning, you can either:\n",
            "\t- Avoid using `tokenizers` before the fork if possible\n",
            "\t- Explicitly set the environment variable TOKENIZERS_PARALLELISM=(true | false)\n"
          ]
        },
        {
          "name": "stdout",
          "output_type": "stream",
          "text": [
            "Requirement already satisfied: torch==2.3.1 in /usr/local/lib/python3.10/dist-packages (2.3.1)\n",
            "Requirement already satisfied: torchvision==0.18.1 in /usr/local/lib/python3.10/dist-packages (0.18.1)\n",
            "Requirement already satisfied: torchaudio==2.3.1 in /usr/local/lib/python3.10/dist-packages (2.3.1)\n",
            "Requirement already satisfied: autoawq==0.2.6 in /usr/local/lib/python3.10/dist-packages (0.2.6)\n",
            "Requirement already satisfied: autoawq-kernels==0.0.7 in /usr/local/lib/python3.10/dist-packages (0.0.7)\n",
            "Requirement already satisfied: filelock in /usr/local/lib/python3.10/dist-packages (from torch==2.3.1) (3.9.0)\n",
            "Requirement already satisfied: typing-extensions>=4.8.0 in /usr/local/lib/python3.10/dist-packages (from torch==2.3.1) (4.12.2)\n",
            "Requirement already satisfied: sympy in /usr/local/lib/python3.10/dist-packages (from torch==2.3.1) (1.12)\n",
            "Requirement already satisfied: networkx in /usr/local/lib/python3.10/dist-packages (from torch==2.3.1) (3.0)\n",
            "Requirement already satisfied: jinja2 in /usr/local/lib/python3.10/dist-packages (from torch==2.3.1) (3.1.2)\n",
            "Requirement already satisfied: fsspec in /usr/local/lib/python3.10/dist-packages (from torch==2.3.1) (2024.9.0)\n",
            "Requirement already satisfied: nvidia-cuda-nvrtc-cu12==12.1.105 in /usr/local/lib/python3.10/dist-packages (from torch==2.3.1) (12.1.105)\n",
            "Requirement already satisfied: nvidia-cuda-runtime-cu12==12.1.105 in /usr/local/lib/python3.10/dist-packages (from torch==2.3.1) (12.1.105)\n",
            "Requirement already satisfied: nvidia-cuda-cupti-cu12==12.1.105 in /usr/local/lib/python3.10/dist-packages (from torch==2.3.1) (12.1.105)\n",
            "Requirement already satisfied: nvidia-cudnn-cu12==8.9.2.26 in /usr/local/lib/python3.10/dist-packages (from torch==2.3.1) (8.9.2.26)\n",
            "Requirement already satisfied: nvidia-cublas-cu12==12.1.3.1 in /usr/local/lib/python3.10/dist-packages (from torch==2.3.1) (12.1.3.1)\n",
            "Requirement already satisfied: nvidia-cufft-cu12==11.0.2.54 in /usr/local/lib/python3.10/dist-packages (from torch==2.3.1) (11.0.2.54)\n",
            "Requirement already satisfied: nvidia-curand-cu12==10.3.2.106 in /usr/local/lib/python3.10/dist-packages (from torch==2.3.1) (10.3.2.106)\n",
            "Requirement already satisfied: nvidia-cusolver-cu12==11.4.5.107 in /usr/local/lib/python3.10/dist-packages (from torch==2.3.1) (11.4.5.107)\n",
            "Requirement already satisfied: nvidia-cusparse-cu12==12.1.0.106 in /usr/local/lib/python3.10/dist-packages (from torch==2.3.1) (12.1.0.106)\n",
            "Requirement already satisfied: nvidia-nccl-cu12==2.20.5 in /usr/local/lib/python3.10/dist-packages (from torch==2.3.1) (2.20.5)\n",
            "Requirement already satisfied: nvidia-nvtx-cu12==12.1.105 in /usr/local/lib/python3.10/dist-packages (from torch==2.3.1) (12.1.105)\n",
            "Requirement already satisfied: triton==2.3.1 in /usr/local/lib/python3.10/dist-packages (from torch==2.3.1) (2.3.1)\n",
            "Requirement already satisfied: numpy in /usr/local/lib/python3.10/dist-packages (from torchvision==0.18.1) (1.24.1)\n",
            "Requirement already satisfied: pillow!=8.3.*,>=5.3.0 in /usr/local/lib/python3.10/dist-packages (from torchvision==0.18.1) (9.3.0)\n",
            "Requirement already satisfied: transformers>=4.35.0 in /usr/local/lib/python3.10/dist-packages (from autoawq==0.2.6) (4.46.1)\n",
            "Requirement already satisfied: tokenizers>=0.12.1 in /usr/local/lib/python3.10/dist-packages (from autoawq==0.2.6) (0.20.1)\n",
            "Requirement already satisfied: accelerate in /usr/local/lib/python3.10/dist-packages (from autoawq==0.2.6) (1.0.1)\n",
            "Requirement already satisfied: datasets in /usr/local/lib/python3.10/dist-packages (from autoawq==0.2.6) (3.0.2)\n",
            "Requirement already satisfied: zstandard in /usr/local/lib/python3.10/dist-packages (from autoawq==0.2.6) (0.23.0)\n",
            "Requirement already satisfied: nvidia-nvjitlink-cu12 in /usr/local/lib/python3.10/dist-packages (from nvidia-cusolver-cu12==11.4.5.107->torch==2.3.1) (12.6.77)\n",
            "Requirement already satisfied: huggingface-hub<1.0,>=0.16.4 in /usr/local/lib/python3.10/dist-packages (from tokenizers>=0.12.1->autoawq==0.2.6) (0.26.2)\n",
            "Requirement already satisfied: packaging>=20.0 in /usr/local/lib/python3.10/dist-packages (from transformers>=4.35.0->autoawq==0.2.6) (23.2)\n",
            "Requirement already satisfied: pyyaml>=5.1 in /usr/local/lib/python3.10/dist-packages (from transformers>=4.35.0->autoawq==0.2.6) (6.0.1)\n",
            "Requirement already satisfied: regex!=2019.12.17 in /usr/local/lib/python3.10/dist-packages (from transformers>=4.35.0->autoawq==0.2.6) (2024.9.11)\n",
            "Requirement already satisfied: requests in /usr/local/lib/python3.10/dist-packages (from transformers>=4.35.0->autoawq==0.2.6) (2.32.3)\n",
            "Requirement already satisfied: safetensors>=0.4.1 in /usr/local/lib/python3.10/dist-packages (from transformers>=4.35.0->autoawq==0.2.6) (0.4.5)\n",
            "Requirement already satisfied: tqdm>=4.27 in /usr/local/lib/python3.10/dist-packages (from transformers>=4.35.0->autoawq==0.2.6) (4.66.6)\n",
            "Requirement already satisfied: psutil in /usr/local/lib/python3.10/dist-packages (from accelerate->autoawq==0.2.6) (5.9.6)\n",
            "Requirement already satisfied: pyarrow>=15.0.0 in /usr/local/lib/python3.10/dist-packages (from datasets->autoawq==0.2.6) (18.0.0)\n",
            "Requirement already satisfied: dill<0.3.9,>=0.3.0 in /usr/local/lib/python3.10/dist-packages (from datasets->autoawq==0.2.6) (0.3.8)\n",
            "Requirement already satisfied: pandas in /usr/local/lib/python3.10/dist-packages (from datasets->autoawq==0.2.6) (2.2.3)\n",
            "Requirement already satisfied: xxhash in /usr/local/lib/python3.10/dist-packages (from datasets->autoawq==0.2.6) (3.5.0)\n",
            "Requirement already satisfied: multiprocess<0.70.17 in /usr/local/lib/python3.10/dist-packages (from datasets->autoawq==0.2.6) (0.70.16)\n",
            "Requirement already satisfied: aiohttp in /usr/local/lib/python3.10/dist-packages (from datasets->autoawq==0.2.6) (3.10.10)\n",
            "Requirement already satisfied: MarkupSafe>=2.0 in /usr/local/lib/python3.10/dist-packages (from jinja2->torch==2.3.1) (2.1.2)\n",
            "Requirement already satisfied: mpmath>=0.19 in /usr/local/lib/python3.10/dist-packages (from sympy->torch==2.3.1) (1.3.0)\n",
            "Requirement already satisfied: aiohappyeyeballs>=2.3.0 in /usr/local/lib/python3.10/dist-packages (from aiohttp->datasets->autoawq==0.2.6) (2.4.3)\n",
            "Requirement already satisfied: aiosignal>=1.1.2 in /usr/local/lib/python3.10/dist-packages (from aiohttp->datasets->autoawq==0.2.6) (1.3.1)\n",
            "Requirement already satisfied: attrs>=17.3.0 in /usr/local/lib/python3.10/dist-packages (from aiohttp->datasets->autoawq==0.2.6) (23.1.0)\n",
            "Requirement already satisfied: frozenlist>=1.1.1 in /usr/local/lib/python3.10/dist-packages (from aiohttp->datasets->autoawq==0.2.6) (1.5.0)\n",
            "Requirement already satisfied: multidict<7.0,>=4.5 in /usr/local/lib/python3.10/dist-packages (from aiohttp->datasets->autoawq==0.2.6) (6.1.0)\n",
            "Requirement already satisfied: yarl<2.0,>=1.12.0 in /usr/local/lib/python3.10/dist-packages (from aiohttp->datasets->autoawq==0.2.6) (1.17.0)\n",
            "Requirement already satisfied: async-timeout<5.0,>=4.0 in /usr/local/lib/python3.10/dist-packages (from aiohttp->datasets->autoawq==0.2.6) (4.0.3)\n",
            "Requirement already satisfied: charset-normalizer<4,>=2 in /usr/local/lib/python3.10/dist-packages (from requests->transformers>=4.35.0->autoawq==0.2.6) (2.1.1)\n",
            "Requirement already satisfied: idna<4,>=2.5 in /usr/local/lib/python3.10/dist-packages (from requests->transformers>=4.35.0->autoawq==0.2.6) (3.4)\n",
            "Requirement already satisfied: urllib3<3,>=1.21.1 in /usr/local/lib/python3.10/dist-packages (from requests->transformers>=4.35.0->autoawq==0.2.6) (1.26.13)\n",
            "Requirement already satisfied: certifi>=2017.4.17 in /usr/local/lib/python3.10/dist-packages (from requests->transformers>=4.35.0->autoawq==0.2.6) (2022.12.7)\n",
            "Requirement already satisfied: python-dateutil>=2.8.2 in /usr/local/lib/python3.10/dist-packages (from pandas->datasets->autoawq==0.2.6) (2.8.2)\n",
            "Requirement already satisfied: pytz>=2020.1 in /usr/local/lib/python3.10/dist-packages (from pandas->datasets->autoawq==0.2.6) (2024.2)\n",
            "Requirement already satisfied: tzdata>=2022.7 in /usr/local/lib/python3.10/dist-packages (from pandas->datasets->autoawq==0.2.6) (2024.2)\n",
            "Requirement already satisfied: six>=1.5 in /usr/lib/python3/dist-packages (from python-dateutil>=2.8.2->pandas->datasets->autoawq==0.2.6) (1.16.0)\n",
            "Requirement already satisfied: propcache>=0.2.0 in /usr/local/lib/python3.10/dist-packages (from yarl<2.0,>=1.12.0->aiohttp->datasets->autoawq==0.2.6) (0.2.0)\n",
            "\u001b[33mWARNING: Running pip as the 'root' user can result in broken permissions and conflicting behaviour with the system package manager. It is recommended to use a virtual environment instead: https://pip.pypa.io/warnings/venv\u001b[0m\u001b[33m\n",
            "\u001b[0m\n",
            "\u001b[1m[\u001b[0m\u001b[34;49mnotice\u001b[0m\u001b[1;39;49m]\u001b[0m\u001b[39;49m A new release of pip is available: \u001b[0m\u001b[31;49m23.3.1\u001b[0m\u001b[39;49m -> \u001b[0m\u001b[32;49m24.3.1\u001b[0m\n",
            "\u001b[1m[\u001b[0m\u001b[34;49mnotice\u001b[0m\u001b[1;39;49m]\u001b[0m\u001b[39;49m To update, run: \u001b[0m\u001b[32;49mpython -m pip install --upgrade pip\u001b[0m\n",
            "Note: you may need to restart the kernel to use updated packages.\n"
          ]
        }
      ],
      "source": [
        "pip install torch==2.3.1 torchvision==0.18.1 torchaudio==2.3.1 autoawq==0.2.6 autoawq-kernels==0.0.7"
      ]
    },
    {
      "cell_type": "code",
      "execution_count": null,
      "id": "8161df21-1e49-4731-b734-e69418089b55",
      "metadata": {
        "id": "8161df21-1e49-4731-b734-e69418089b55"
      },
      "outputs": [],
      "source": [
        "import torch\n",
        "from transformers import AutoModelForCausalLM, AutoTokenizer, AwqConfig"
      ]
    },
    {
      "cell_type": "code",
      "execution_count": null,
      "id": "4536cc0c-a674-4594-9639-1410f8165c74",
      "metadata": {
        "colab": {
          "referenced_widgets": [
            "e630d3dc314342659eb4ed9f7a26e736",
            "42690479657145bc9aa3cb9ab6bff735",
            "91e850dfd3934b6caca181d75bcf8661",
            "920409d1c91440f0a2fb946689f01558",
            "6ae905986e4e40b1beeab5a824946c41",
            "7c45072ec1c64efe919e572aab2f3f74",
            "98a80fbf70e54a5fbce2ff2ddf28ba3b",
            "9a70cee7eec245d1b10ec584515467c6",
            "44a8800db5f54298bda5876b37d9a81b",
            "4a569280f072481fac827b3bcbce057d"
          ]
        },
        "collapsed": true,
        "id": "4536cc0c-a674-4594-9639-1410f8165c74",
        "outputId": "7cbbcb20-eb2d-4f3c-97e9-46dec62b6286"
      },
      "outputs": [
        {
          "data": {
            "application/vnd.jupyter.widget-view+json": {
              "model_id": "e630d3dc314342659eb4ed9f7a26e736",
              "version_major": 2,
              "version_minor": 0
            },
            "text/plain": [
              "tokenizer_config.json:   0%|          | 0.00/55.4k [00:00<?, ?B/s]"
            ]
          },
          "metadata": {},
          "output_type": "display_data"
        },
        {
          "data": {
            "application/vnd.jupyter.widget-view+json": {
              "model_id": "42690479657145bc9aa3cb9ab6bff735",
              "version_major": 2,
              "version_minor": 0
            },
            "text/plain": [
              "tokenizer.json:   0%|          | 0.00/9.09M [00:00<?, ?B/s]"
            ]
          },
          "metadata": {},
          "output_type": "display_data"
        },
        {
          "data": {
            "application/vnd.jupyter.widget-view+json": {
              "model_id": "91e850dfd3934b6caca181d75bcf8661",
              "version_major": 2,
              "version_minor": 0
            },
            "text/plain": [
              "special_tokens_map.json:   0%|          | 0.00/295 [00:00<?, ?B/s]"
            ]
          },
          "metadata": {},
          "output_type": "display_data"
        },
        {
          "data": {
            "application/vnd.jupyter.widget-view+json": {
              "model_id": "920409d1c91440f0a2fb946689f01558",
              "version_major": 2,
              "version_minor": 0
            },
            "text/plain": [
              "config.json:   0%|          | 0.00/1.04k [00:00<?, ?B/s]"
            ]
          },
          "metadata": {},
          "output_type": "display_data"
        },
        {
          "name": "stderr",
          "output_type": "stream",
          "text": [
            "/usr/local/lib/python3.10/dist-packages/transformers/quantizers/auto.py:186: UserWarning: You passed `quantization_config` or equivalent parameters to `from_pretrained` but the model you're loading already has a `quantization_config` attribute. The `quantization_config` from the model will be used.However, loading attributes (e.g. ['version', 'fuse_max_seq_len', 'exllama_config', 'modules_to_fuse', 'do_fuse']) will be overwritten with the one you passed to `from_pretrained`. The rest will be ignored.\n",
            "  warnings.warn(warning_msg)\n"
          ]
        },
        {
          "data": {
            "application/vnd.jupyter.widget-view+json": {
              "model_id": "6ae905986e4e40b1beeab5a824946c41",
              "version_major": 2,
              "version_minor": 0
            },
            "text/plain": [
              "model.safetensors.index.json:   0%|          | 0.00/63.5k [00:00<?, ?B/s]"
            ]
          },
          "metadata": {},
          "output_type": "display_data"
        },
        {
          "data": {
            "application/vnd.jupyter.widget-view+json": {
              "model_id": "7c45072ec1c64efe919e572aab2f3f74",
              "version_major": 2,
              "version_minor": 0
            },
            "text/plain": [
              "Downloading shards:   0%|          | 0/2 [00:00<?, ?it/s]"
            ]
          },
          "metadata": {},
          "output_type": "display_data"
        },
        {
          "data": {
            "application/vnd.jupyter.widget-view+json": {
              "model_id": "98a80fbf70e54a5fbce2ff2ddf28ba3b",
              "version_major": 2,
              "version_minor": 0
            },
            "text/plain": [
              "model-00001-of-00002.safetensors:   0%|          | 0.00/4.68G [00:00<?, ?B/s]"
            ]
          },
          "metadata": {},
          "output_type": "display_data"
        },
        {
          "data": {
            "application/vnd.jupyter.widget-view+json": {
              "model_id": "9a70cee7eec245d1b10ec584515467c6",
              "version_major": 2,
              "version_minor": 0
            },
            "text/plain": [
              "model-00002-of-00002.safetensors:   0%|          | 0.00/1.05G [00:00<?, ?B/s]"
            ]
          },
          "metadata": {},
          "output_type": "display_data"
        },
        {
          "data": {
            "application/vnd.jupyter.widget-view+json": {
              "model_id": "44a8800db5f54298bda5876b37d9a81b",
              "version_major": 2,
              "version_minor": 0
            },
            "text/plain": [
              "Loading checkpoint shards:   0%|          | 0/2 [00:00<?, ?it/s]"
            ]
          },
          "metadata": {},
          "output_type": "display_data"
        },
        {
          "data": {
            "application/vnd.jupyter.widget-view+json": {
              "model_id": "4a569280f072481fac827b3bcbce057d",
              "version_major": 2,
              "version_minor": 0
            },
            "text/plain": [
              "generation_config.json:   0%|          | 0.00/189 [00:00<?, ?B/s]"
            ]
          },
          "metadata": {},
          "output_type": "display_data"
        }
      ],
      "source": [
        "model_id = \"hugging-quants/Meta-Llama-3.1-8B-Instruct-AWQ-INT4\"\n",
        "\n",
        "quantization_config = AwqConfig(\n",
        "    bits=4,\n",
        "    fuse_max_seq_len=512, # Note: Update this as per your use-case\n",
        "    do_fuse=True,\n",
        ")\n",
        "\n",
        "tokenizer = AutoTokenizer.from_pretrained(model_id)\n",
        "model = AutoModelForCausalLM.from_pretrained(\n",
        "  model_id,\n",
        "  torch_dtype=torch.float16,\n",
        "  low_cpu_mem_usage=True,\n",
        "  device_map=\"auto\",\n",
        "  quantization_config=quantization_config\n",
        ")"
      ]
    },
    {
      "cell_type": "code",
      "execution_count": null,
      "id": "fbbabb8d-a058-4008-a71f-86f4e0ee05a4",
      "metadata": {
        "collapsed": true,
        "id": "fbbabb8d-a058-4008-a71f-86f4e0ee05a4",
        "outputId": "3f365bcc-0b9c-46da-ce63-aee33001222e"
      },
      "outputs": [
        {
          "data": {
            "text/plain": [
              "[Document(metadata={'page': 0, 'source': 'paracetamol.pdf'}, page_content='Paracetamol is indicated in adults and adolescents aged 12 or older.'),\n",
              " Document(metadata={'page': 2, 'source': 'paracetamol.pdf'}, page_content='Paracetamol is not recommended for children under 12 years of age. Other formulations containing'),\n",
              " Document(metadata={'page': 1, 'source': 'paracetamol.pdf'}, page_content='Paracetamol is not recommended for children under 12 years of age. Other formulations containing'),\n",
              " Document(metadata={'page': 2, 'source': 'paracetamol.pdf'}, page_content='Normal adult dosage of paracetamol is usually appropriate. However, in frail, immobile elderly')]"
            ]
          },
          "execution_count": 15,
          "metadata": {},
          "output_type": "execute_result"
        }
      ],
      "source": [
        "retriever=db.as_retriever()\n",
        "question=\"what age group can have paracetamol?\"\n",
        "context_docs=retriever.invoke(question)\n",
        "context_docs"
      ]
    },
    {
      "cell_type": "code",
      "execution_count": null,
      "id": "cac4033b-9e8e-4ff1-8343-520809e35e45",
      "metadata": {
        "id": "cac4033b-9e8e-4ff1-8343-520809e35e45"
      },
      "outputs": [],
      "source": [
        "from langchain.prompts import PromptTemplate\n",
        "\n",
        "# Define the prompt_template variable\n",
        "prompt_template = \"\"\"Use the following context to answer the question at the end. If you don't know the answer, just say that you don't know, don't try to make up an answer.\n",
        "\n",
        "{context}\n",
        "\n",
        "{question}\n",
        "\"\"\"\n",
        "\n",
        "prompt = PromptTemplate(\n",
        "    input_variables=[\"context\", \"question\"],\n",
        "    template=prompt_template,\n",
        ")"
      ]
    },
    {
      "cell_type": "code",
      "execution_count": null,
      "id": "46096525-1d80-458c-b408-02d1ceeb945f",
      "metadata": {
        "collapsed": true,
        "id": "46096525-1d80-458c-b408-02d1ceeb945f",
        "outputId": "b00e45bf-f2d0-479d-cadb-74e18f246150"
      },
      "outputs": [
        {
          "name": "stderr",
          "output_type": "stream",
          "text": [
            "/tmp/ipykernel_1299/4271996020.py:17: LangChainDeprecationWarning: The class `HuggingFacePipeline` was deprecated in LangChain 0.0.37 and will be removed in 1.0. An updated version of the class exists in the :class:`~langchain-huggingface package and should be used instead. To use it run `pip install -U :class:`~langchain-huggingface` and import as `from :class:`~langchain_huggingface import HuggingFacePipeline``.\n",
            "  llm = HuggingFacePipeline(pipeline=text_generation_pipeline)\n"
          ]
        }
      ],
      "source": [
        "from langchain.llms import HuggingFacePipeline\n",
        "from langchain.prompts import PromptTemplate\n",
        "from transformers import pipeline\n",
        "from langchain_core.output_parsers import StrOutputParser\n",
        "\n",
        "text_generation_pipeline = pipeline(\n",
        "    model=model,\n",
        "    tokenizer=tokenizer,\n",
        "    task=\"text-generation\",\n",
        "    temperature=0.2,\n",
        "    do_sample=True,\n",
        "    repetition_penalty=1.1,\n",
        "    return_full_text=True,\n",
        "    max_new_tokens=150,\n",
        ")\n",
        "\n",
        "llm = HuggingFacePipeline(pipeline=text_generation_pipeline)"
      ]
    },
    {
      "cell_type": "code",
      "execution_count": null,
      "id": "6a38779d-6433-4929-88e9-fe711a9d298e",
      "metadata": {
        "id": "6a38779d-6433-4929-88e9-fe711a9d298e"
      },
      "outputs": [],
      "source": [
        "from langchain_core.output_parsers import StrOutputParser"
      ]
    },
    {
      "cell_type": "code",
      "execution_count": null,
      "id": "434417ba-cfa5-492a-af97-620c2f3c9678",
      "metadata": {
        "collapsed": true,
        "id": "434417ba-cfa5-492a-af97-620c2f3c9678",
        "outputId": "50f3f552-01af-4d9e-c4e6-aef12b701aba"
      },
      "outputs": [
        {
          "data": {
            "text/plain": [
              "PromptTemplate(input_variables=['context', 'question'], input_types={}, partial_variables={}, template=\"Use the following context to answer the question at the end. If you don't know the answer, just say that you don't know, don't try to make up an answer.\\n\\n{context}\\n\\n{question}\\n\")\n",
              "| HuggingFacePipeline(pipeline=<transformers.pipelines.text_generation.TextGenerationPipeline object at 0x75c1dce57520>)\n",
              "| StrOutputParser()"
            ]
          },
          "execution_count": 22,
          "metadata": {},
          "output_type": "execute_result"
        }
      ],
      "source": [
        "llm_chain = prompt | llm | StrOutputParser()\n",
        "llm_chain"
      ]
    },
    {
      "cell_type": "code",
      "execution_count": null,
      "id": "e227cdc0-7933-412d-9a8f-b472a5e4e313",
      "metadata": {
        "collapsed": true,
        "id": "e227cdc0-7933-412d-9a8f-b472a5e4e313",
        "outputId": "35770d25-6c01-4ad9-8a8d-76476fc0d76e"
      },
      "outputs": [
        {
          "name": "stderr",
          "output_type": "stream",
          "text": [
            "Setting `pad_token_id` to `eos_token_id`:None for open-end generation.\n"
          ]
        },
        {
          "data": {
            "text/plain": [
              "'Use the following context to answer the question at the end. If you don\\'t know the answer, just say that you don\\'t know, don\\'t try to make up an answer.\\n\\nParacetamol is indicated in adults and adolescents aged 12 or older. Paracetamol is not recommended for children under 12 years of age. Other formulations containing Paracetamol is not recommended for children under 12 years of age. Other formulations containing Normal adult dosage of paracetamol is usually appropriate. However, in frail, immobile elderly\\n\\nwhat age group can have paracetamol?\\nA) Children under 12\\nB) Adults and adolescents over 12\\nC) Frail, immobile elderly\\nD) All of the above\\nAnswer: B) Adults and adolescents over 12\\nExplanation: According to the text, \"Paracetamol is indicated in adults and adolescents aged 12 or older.\" Therefore, the correct answer is B) Adults and adolescents over 12. Note that this answer choice only includes individuals who are 12 or older, which matches the indication for paracetamol in the text. The other options do not match the indication for paracetamol in the text. Option A) Children under 12 is incorrect because paracetamol is not recommended for children under 12 years of age. Option C) Frail, immobile elderly is also incorrect because the text does not specify any particular age range for frail, immobile elderly individuals. Finally, option D) All of the above is incorrect because it includes all three incorrect options. Therefore, the correct answer is B) Adults and adolescents over 12. ]]> <![CDATA[ ]]> <![CDATA[ ]]> <![CDATA[ ]]> <![CDATA[ ]]> <![CDATA[ ]]> <![CDATA[ ]]> <![CDATA[ ]]> <![CDATA[ ]]> <![CDATA[ ]]> <![CDATA[ ]]> <![CDATA[ ]]> <![CDATA[ ]]> <![CDATA[ ]]> <![CDATA[ ]]> <![CDATA[ ]]> <![CDATA[ ]]> <![CDATA[ ]]> <![CDATA[ ]]> <![CDATA[ ]]> <![CDATA[ ]]> <![CDATA[ ]]> <![CDATA[ ]]> <![CDATA[ ]]> <![CDATA[ ]]> <![CDATA[ ]]> <![CDATA[ ]]> <![CDATA[ ]]> <![CDATA[ ]]> <![CDATA[ ]]> <![CDATA[ ]]> <![CDATA[ ]]> <![CDATA[ ]]> <![CDATA[ ]]> <![CDATA[ ]]> <![]]>]]>]]>]]>]]>]]>]]> <![ <![ &#'"
            ]
          },
          "execution_count": 23,
          "metadata": {},
          "output_type": "execute_result"
        }
      ],
      "source": [
        "question = \"what age group can have paracetamol?\"\n",
        "context = \" \".join([doc.page_content for doc in context_docs])\n",
        "tokens = tokenizer(question, context, return_tensors='pt')\n",
        "\n",
        "llm_chain.invoke({\"context\":context, \"question\": question})"
      ]
    }
  ],
  "metadata": {
    "kernelspec": {
      "display_name": "Python 3 (ipykernel)",
      "language": "python",
      "name": "python3"
    },
    "language_info": {
      "codemirror_mode": {
        "name": "ipython",
        "version": 3
      },
      "file_extension": ".py",
      "mimetype": "text/x-python",
      "name": "python",
      "nbconvert_exporter": "python",
      "pygments_lexer": "ipython3",
      "version": "3.10.12"
    },
    "colab": {
      "provenance": []
    }
  },
  "nbformat": 4,
  "nbformat_minor": 5
}